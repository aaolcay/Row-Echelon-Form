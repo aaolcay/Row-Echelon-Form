{
  "nbformat": 4,
  "nbformat_minor": 0,
  "metadata": {
    "colab": {
      "provenance": [],
      "authorship_tag": "ABX9TyOkqj+BvVRhbciKJ7v234HW",
      "include_colab_link": true
    },
    "kernelspec": {
      "name": "python3",
      "display_name": "Python 3"
    },
    "language_info": {
      "name": "python"
    }
  },
  "cells": [
    {
      "cell_type": "markdown",
      "metadata": {
        "id": "view-in-github",
        "colab_type": "text"
      },
      "source": [
        "<a href=\"https://colab.research.google.com/github/aaolcay/Row-Echelon-Form/blob/main/row_echelon_converter.ipynb\" target=\"_parent\"><img src=\"https://colab.research.google.com/assets/colab-badge.svg\" alt=\"Open In Colab\"/></a>"
      ]
    },
    {
      "cell_type": "markdown",
      "source": [
        "## **Author**\n",
        "The code was written by Abdullah Olcay (University of Southampton). If you want to copy or share the code, please refer to me!\n",
        "\n",
        "For more information contact me: olcayazzam@gmail.com"
      ],
      "metadata": {
        "id": "XfdK8Qvne3iv"
      }
    },
    {
      "cell_type": "markdown",
      "source": [
        "### **Row-echelon Form Converter (For 2 by 2 Matrices)**\n",
        "Let's visualize what row-echelon form means and what it does!\n",
        "If you have many systems to solve and obtain each element values, you can use Gaussian elimination that refers to the process until it has reached its upper triangular, or (unreduced) row echelon form.\n",
        "\n",
        "Logically, one needs to relate each individual unknown with their equivalance in the right hand side, by making other individuals inactive (or rather zeros). To comprehend What Abdullah says here, we can elaborately go over a simple system assumed to be complete (i.e., non-singular and has a unique solution, and before forgetting equations are not linearly dependent🎯). Let's see a system that has three equations and totally have three pieces of information ($x_{1}, x_{2}, x_{3}$):\n",
        "\n",
        "\\begin{align}\n",
        "a_{11} x_{1} + a_{12} x_{2} + a_{13} x_{3}= b_{1}\\\\\n",
        "a_{21} x_{1} + a_{22} x_{2} + a_{23} x_{3}= b_{2}\\\\\n",
        "a_{31} x_{1} + a_{32} x_{2} + a_{33} x_{3}= b_{3} \n",
        "    \\end{align}\n",
        "\n",
        "We can now represent this system by means of a matrix:\n",
        "\n",
        "\n",
        "\\begin{align}\n",
        "        \\begin{pmatrix}\n",
        "        a_{11} & a_{12} & a_{13} \\\\\n",
        "        a_{21} & a_{22} & a_{23} \\\\\n",
        "        a_{31} & a_{32} & a_{33} \n",
        "        \\end{pmatrix} \\cdot \\begin{pmatrix}\n",
        "        x_{1}\\\\\n",
        "        x_{2}\\\\\n",
        "        x_{3}\n",
        "        \\end{pmatrix}=\\begin{pmatrix}\n",
        "        b_{1}\\\\\n",
        "        b_{2}\\\\\n",
        "        b_{3}\n",
        "        \\end{pmatrix}\n",
        "    \\end{align}\n",
        "\n",
        "\n",
        "\n",
        "Notice that $\\mathbf\\cdot$ is `dot product` (or `scalar product`). If one wants to obtain the values of $x_{1}, x_{2},$ and $x_{3}$, he/she needs to play with the coefficients $a_{11}, a_{12}, a_{13}, a_{21},...,a_{33}$. Let's now compute this scalar product and show its form by matrices:\n",
        "\n",
        "\n",
        "\\begin{align}\n",
        "        \\begin{pmatrix}\n",
        "        a_{11}x_{1} + a_{12}x_{2} + a_{13}x_{3} \\\\\n",
        "        a_{21}x_{1} + a_{22}x_{2} + a_{23}x_{3} \\\\\n",
        "        a_{31}x_{1} + a_{32}x_{2} + a_{33}x_{3} \n",
        "        \\end{pmatrix} =\\begin{pmatrix}\n",
        "        b_{1}\\\\\n",
        "        b_{2}\\\\\n",
        "        b_{3}\n",
        "        \\end{pmatrix}\n",
        "    \\end{align}\n",
        "\n",
        "Here, to find the values of $x_{3}, x_{2},$ and $x_{1}$ respectively, we can use reduced or unreduced row-echelon form (watch out: Gaussian elimination refers to *(unreduced) row echelon form*). The difference between (unreduced) echelon form and reduced echelon form is that reduced echelon has ones (1) in diagonal elements but zeros (0) in other indices. Row echelon form contains ones (1) in diagonal elements and zeros (0) underneath the diagonal. Mathematically (for the matrix of system above), $a_{11}=a_{22}=a_{33}=1$ and $a_{21}=a_{32}=a_{32}=0$ \n",
        "\\begin{align}\n",
        "        \\begin{pmatrix}\n",
        "        x_{1} + a_{12}x_{2} + a_{13}x_{3} \\\\\n",
        "        0 + x_{2} + a_{23}x_{3} \\\\\n",
        "        0 + 0 + x_{3} \n",
        "        \\end{pmatrix} =\\begin{pmatrix}\n",
        "        b_{1}\\\\\n",
        "        b_{2}\\\\\n",
        "        b_{3}\n",
        "        \\end{pmatrix}\n",
        "    \\end{align}\n",
        "\n",
        "Okay Abdullah, thank you for your introduction, but how can I form any system on my hand to make it row echelon form?\n",
        "\n",
        "Answer: Welcome to a heaven on earth ☠. I am just kidding run the code below (you are quite lucky for having me 💲). Yes... everybody says I am an egoist. Nevertheless, for now I am just whom have written this code for only 2 by 2 matrices and not for much largers (e.g., 3 by 3 as shown in this introduction cell). "
      ],
      "metadata": {
        "id": "nF2HaWJ633gB"
      }
    },
    {
      "cell_type": "code",
      "source": [
        "from sys import exit\n",
        "import numpy as np"
      ],
      "metadata": {
        "id": "VKQiu3_mHtU7"
      },
      "execution_count": 119,
      "outputs": []
    },
    {
      "cell_type": "markdown",
      "source": [
        "### **Row-echelon Form Converter Class**\n",
        "The code cell below includes a class converting any 2D arrays to its row echelon form within 4 processes:\n",
        "1. Divide each row by leftmost coefficient\n",
        "2. Subtract each row from one above\n",
        "3. Divide each row by the leftmost non-zero coefficient\n",
        "  * Find first non-zero element of each row in array/matrix\n",
        "\n",
        "\n"
      ],
      "metadata": {
        "id": "ACUa9bGUar5O"
      }
    },
    {
      "cell_type": "code",
      "execution_count": 120,
      "metadata": {
        "id": "gpXz4OU432nO"
      },
      "outputs": [],
      "source": [
        "class echelon_converter:\n",
        "  def __init__(self,\n",
        "               my_matrix):\n",
        "    # check if the matrix 2D\n",
        "    if len(my_matrix.shape)<2:\n",
        "      print(f'Warning: Your matrix must be 2D, but yours is {len(my_matrix.shape)}D')\n",
        "      exit()\n",
        "    self.matrix=my_matrix\n",
        "    self.left_most_coeff() # Step 1\n",
        "    self.subtract() # Step 2\n",
        "    indices_column = self.non_zero_element_finder() # Acquire first non-zero column indices\n",
        "    self.indices_column = indices_column\n",
        "    self.left_most_coeff_two() # Step 3 \n",
        "\n",
        "# 1. Divide each row by the leftmost coefficient \n",
        "  def left_most_coeff(self):\n",
        "    matrix=self.matrix\n",
        "    for i in range(matrix.shape[0]):\n",
        "       matrix[i,:] = matrix[i,:]/matrix[i,0]\n",
        "    self.matrix_ones = matrix\n",
        "\n",
        "# 2. Subtract consecutive rows\n",
        "  def subtract(self):\n",
        "    matrix=self.matrix_ones\n",
        "    for i in reversed(range(matrix.shape[0])):\n",
        "      matrix[i,:] = matrix[i,:]-matrix[i-1,:]\n",
        "      if i==1:\n",
        "        break\n",
        "    self.matrix_new = matrix\n",
        "\n",
        "# 3. Divide each row by the leftmost coefficient again \n",
        "  def left_most_coeff_two(self):\n",
        "    indices_column = self.indices_column\n",
        "    matrix=self.matrix_new\n",
        "    for i in range(matrix.shape[0]):\n",
        "       matrix[i,:] = matrix[i,:]/matrix[i,int(indices_column[i])]\n",
        "    matrix_row_echelon = matrix\n",
        "    return matrix_row_echelon\n",
        "\n",
        "# Find first non-zero element of each row in array/matrix\n",
        "  def non_zero_element_finder(self):\n",
        "    matrix = self.matrix_new\n",
        "    # checker\n",
        "    indices_column = np.zeros(matrix.shape[0])\n",
        "    for i in range(matrix.shape[0]):\n",
        "      for k in range(matrix.shape[1]):\n",
        "        if matrix[i,k]!=0:\n",
        "          indices_column[i] = k\n",
        "          break\n",
        "    return indices_column"
      ]
    },
    {
      "cell_type": "markdown",
      "source": [
        "### **Run the class**\n",
        "In the code cell below, enter your 2D matrix. `echelon_form` results in echelon form of the matrix you've given. Are you sure Abdullah? "
      ],
      "metadata": {
        "id": "pXwBNyUJYOsK"
      }
    },
    {
      "cell_type": "code",
      "source": [
        "if __name__ == \"__main__\":\n",
        "    matrix = np.array([[5.,1.],[4.,-3.]])\n",
        "    print(f'Entered matrix is:\\n{matrix}')\n",
        "    echelon_form = echelon_converter(matrix)\n",
        "    echelon_form= echelon_form.left_most_coeff_two()\n",
        "    print(f'Its echelon form is:\\n{echelon_form}')\n",
        "else:\n",
        "    print(__name__)"
      ],
      "metadata": {
        "colab": {
          "base_uri": "https://localhost:8080/"
        },
        "id": "oxLi-LnFI4O9",
        "outputId": "995f1f72-0da8-4985-8273-fae6b464dce6"
      },
      "execution_count": 121,
      "outputs": [
        {
          "output_type": "stream",
          "name": "stdout",
          "text": [
            "Entered matrix is:\n",
            "[[ 5.  1.]\n",
            " [ 4. -3.]]\n",
            "Its echelon form is:\n",
            "[[ 1.   0.2]\n",
            " [-0.   1. ]]\n"
          ]
        }
      ]
    },
    {
      "cell_type": "markdown",
      "source": [
        "If you see a value of -0., know that this is basically zero but encoded with minus. In other words, there is no problem 😂 it is 0. If you do not believe me, you can see what IEEE's definition is: https://en.wikipedia.org/wiki/Signed_zero"
      ],
      "metadata": {
        "id": "0t0ADdeSeftQ"
      }
    },
    {
      "cell_type": "markdown",
      "source": [
        "👍👍👍"
      ],
      "metadata": {
        "id": "xRWLr7pBaW67"
      }
    }
  ]
}